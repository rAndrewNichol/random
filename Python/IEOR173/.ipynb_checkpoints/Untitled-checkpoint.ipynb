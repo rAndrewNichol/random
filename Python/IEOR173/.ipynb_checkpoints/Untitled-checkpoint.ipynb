{
 "cells": [
  {
   "cell_type": "code",
   "execution_count": null,
   "metadata": {
    "collapsed": true
   },
   "outputs": [],
   "source": [
    "Simulation Homework 10 # 4"
   ]
  },
  {
   "cell_type": "code",
   "execution_count": null,
   "metadata": {
    "collapsed": true
   },
   "outputs": [],
   "source": [
    "from numpy import *\n",
    "from math import *\n",
    "\n",
    "gen_u = random.uniform\n",
    "\n",
    "def gen_exp(rate):\n",
    "\tdef generate():\n",
    "\t\treturn -log(gen_u()) / rate\n",
    "\treturn generate\n",
    "\n",
    "arrival = gen_exp(2)\n",
    "leave_s1 = gen_exp(4)\n",
    "leave_s2 = gen_exp(2)\n",
    "\n",
    "s1_busy = False\n",
    "s2_busy = False\n",
    "\n",
    "# sim initialization:\n",
    "count_total = 0\n",
    "count_s1 = 0\n",
    "count_s2 = 0\n",
    "\n",
    "# first entrance (guaranteed)\n",
    "count_total += 1\n",
    "count_s1 = 1\n",
    "current_status = dict(s1 = 1, s2 = 0)\n",
    "\n",
    "for i in range(100000):\n",
    "#generate rates\n",
    "\tarrival_result = arrival()\n",
    "\tleave_s1_result = leave_s1() if current_status['s1'] == True else inf\n",
    "\tleave_s2_result = leave_s2() if current_status['s2'] == True else inf\n",
    "\tget_min = min(arrival_result, leave_s1_result, leave_s2_result)\n",
    "\n",
    "\tif arrival_result == get_min:\n",
    "\t\tcount_total += 1\n",
    "\t\tif current_status['s1'] == False:\n",
    "\t\t\tcount_s1 += 1\n",
    "\t\t\tcurrent_status['s1'] = True\n",
    "\n",
    "\telif leave_s1_result == get_min:\n",
    "\t\tcurrent_status['s1'] = False\n",
    "\t\tif current_status['s2'] == False:\n",
    "\t\t\tcount_s2 += 1\n",
    "\t\t\tcurrent_status['s2'] = True\n",
    "\n",
    "\telif leave_s2_result == get_min:\n",
    "\t\tcurrent_status['s2'] = False\n",
    "\n",
    "print(\"Total: \",count_total, '\\n', \"Enter: \", count_s1, '\\n', 'S2 :', count_s2, '\\n')\n",
    "print(\"Total: \",count_total, '\\n', \"Prop Enter: \", count_s1/count_total, '\\n', 'Prop S2 :', count_s2/count_total, '\\n')"
   ]
  },
  {
   "cell_type": "code",
   "execution_count": null,
   "metadata": {
    "collapsed": true
   },
   "outputs": [],
   "source": [
    "Yes"
   ]
  }
 ],
 "metadata": {
  "anaconda-cloud": {},
  "kernelspec": {
   "display_name": "Python [default]",
   "language": "python",
   "name": "python3"
  },
  "language_info": {
   "codemirror_mode": {
    "name": "ipython",
    "version": 3
   },
   "file_extension": ".py",
   "mimetype": "text/x-python",
   "name": "python",
   "nbconvert_exporter": "python",
   "pygments_lexer": "ipython3",
   "version": "3.5.2"
  }
 },
 "nbformat": 4,
 "nbformat_minor": 1
}
