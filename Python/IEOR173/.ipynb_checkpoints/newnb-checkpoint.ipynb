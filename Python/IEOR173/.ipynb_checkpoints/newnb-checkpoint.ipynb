{
 "cells": [
  {
   "cell_type": "markdown",
   "metadata": {
    "collapsed": true
   },
   "source": [
    "<h1 style=\"text-align: center;\" markdown=\"1\">IEOR 173 HW 10 Problem 4</h1>\n",
    "<h2 style=\"text-align: center;\" markdown=\"1\">Simulation Part b</h2>\n",
    "<h3 style=\"text-align: center;\" markdown=\"1\">Andrew Nichol</h3>"
   ]
  },
  {
   "cell_type": "code",
   "execution_count": 2,
   "metadata": {
    "collapsed": false
   },
   "outputs": [
    {
     "name": "stdout",
     "output_type": "stream",
     "text": [
      "Prop Enter:  0.6675649476131844 \n",
      " Prop S2 : 0.44438507530142746 \n",
      "\n"
     ]
    }
   ],
   "source": [
    "from numpy import *\n",
    "from math import *\n",
    "\n",
    "gen_u = random.uniform\n",
    "\n",
    "def gen_exp(rate):\n",
    "\tdef generate():\n",
    "\t\treturn -log(gen_u()) / rate\n",
    "\treturn generate\n",
    "\n",
    "# arrival rate and server2 have rate 2 while server1 has rate 4\n",
    "arrival, leave_s1, leave_s2 = gen_exp(2), gen_exp(4), gen_exp(2)\n",
    "\n",
    "# sim initialization: (first entrance guaranteed)\n",
    "count_total = 1\n",
    "count_s1 = 1\n",
    "count_s2 = 0\n",
    "current_status = dict(s1 = True, s2 = 0)\n",
    "\n",
    "# 1 million loops\n",
    "for i in range(1000000):\n",
    "\n",
    "    #generate rates\n",
    "\tarrival_result = arrival()\n",
    "\tleave_s1_result = leave_s1() if current_status['s1'] == True else inf\n",
    "\tleave_s2_result = leave_s2() if current_status['s2'] == True else inf\n",
    "\tget_min = min(arrival_result, leave_s1_result, leave_s2_result)\n",
    "\n",
    "\tif arrival_result == get_min:\n",
    "\t\tcount_total += 1\n",
    "\t\tif current_status['s1'] == False:\n",
    "\t\t\tcount_s1 += 1\n",
    "\t\t\tcurrent_status['s1'] = True\n",
    "\n",
    "\telif leave_s1_result == get_min:\n",
    "\t\tcurrent_status['s1'] = False\n",
    "\t\tif current_status['s2'] == False:\n",
    "\t\t\tcount_s2 += 1\n",
    "\t\t\tcurrent_status['s2'] = True\n",
    "\n",
    "\telif leave_s2_result == get_min:\n",
    "\t\tcurrent_status['s2'] = False\n",
    "\n",
    "print(\"Prop Enter: \", count_s1/count_total, '\\n', 'Prop S2 :', count_s2/count_total, '\\n')"
   ]
  },
  {
   "cell_type": "markdown",
   "metadata": {
    "collapsed": true
   },
   "source": [
    "Thus, the proportion of customers who enter the second server converges to 4/9. The proportion who enter is as expected based on our solution to part a (2/3)."
   ]
  }
 ],
 "metadata": {
  "anaconda-cloud": {},
  "kernelspec": {
   "display_name": "Python [default]",
   "language": "python",
   "name": "python3"
  },
  "language_info": {
   "codemirror_mode": {
    "name": "ipython",
    "version": 3
   },
   "file_extension": ".py",
   "mimetype": "text/x-python",
   "name": "python",
   "nbconvert_exporter": "python",
   "pygments_lexer": "ipython3",
   "version": "3.5.2"
  }
 },
 "nbformat": 4,
 "nbformat_minor": 1
}
